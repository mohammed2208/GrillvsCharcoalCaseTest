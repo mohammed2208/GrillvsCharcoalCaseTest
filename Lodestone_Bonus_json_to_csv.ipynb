{
 "cells": [
  {
   "cell_type": "code",
   "execution_count": null,
   "metadata": {},
   "outputs": [],
   "source": [
    "import pandas as pd\n",
    "import json\n",
    "with open('SheetC.json') as file:\n",
    "    SheetC = json.load(file)\n",
    "test_result = json.loads(SheetC['test_result'])\n",
    "json_file = dict()\n",
    "i = 1\n",
    "for key, value in test_result.items():\n",
    "    dict_temp = dict()\n",
    "    dict_temp['sample_item_index'] = value['sample_item_index']\n",
    "    dict_temp['item_material'] = value['meta_data']['item_material']\n",
    "    dict_temp['is_frozen'] = value['meta_data']['is_frozen']\n",
    "    dict_temp['grill_type'] = value['meta_data']['grill_type']\n",
    "    dict_temp['thumbs_up_score'] = value['survey_result']['thumbs_up_score']\n",
    "    dict_temp['guess_grill_correct'] = value['survey_result']['guess_grill_correct']\n",
    "    json_file[i] = dict_temp\n",
    "    i = i+1\n",
    "result = pd.read_json(json.dumps(json_file), orient='index')\n",
    "csv_file = result.to_csv('final_csv.csv', index=False)"
   ]
  },
  {
   "cell_type": "code",
   "execution_count": null,
   "metadata": {},
   "outputs": [],
   "source": []
  }
 ],
 "metadata": {
  "kernelspec": {
   "display_name": "Python 3",
   "language": "python",
   "name": "python3"
  },
  "language_info": {
   "codemirror_mode": {
    "name": "ipython",
    "version": 3
   },
   "file_extension": ".py",
   "mimetype": "text/x-python",
   "name": "python",
   "nbconvert_exporter": "python",
   "pygments_lexer": "ipython3",
   "version": "3.8.3"
  }
 },
 "nbformat": 4,
 "nbformat_minor": 4
}
